{
 "cells": [
  {
   "cell_type": "code",
   "execution_count": 1,
   "id": "cce91f4a",
   "metadata": {},
   "outputs": [
    {
     "name": "stdout",
     "output_type": "stream",
     "text": [
      "hello  world\n",
      "bayezid 27.5\n",
      "<class 'float'>\n",
      "<class 'str'>\n",
      "<class 'bool'>\n",
      "<class 'NoneType'>\n"
     ]
    }
   ],
   "source": [
    "print(\"hello \",\"world\")\n",
    "\n",
    "name= \"bayezid\"\n",
    "age= 25\n",
    "old=True\n",
    "young= None\n",
    "age2 = age + float(\"2.5\")\n",
    "print(name ,age2)\n",
    "print(type(age2))\n",
    "print(type (name))\n",
    "print(type(old))\n",
    "print(type(young))\n"
   ]
  },
  {
   "cell_type": "code",
   "execution_count": 2,
   "id": "6e9270ed",
   "metadata": {},
   "outputs": [
    {
     "name": "stdout",
     "output_type": "stream",
     "text": [
      "7\n",
      "3\n",
      "False\n",
      "True\n",
      "False\n",
      "True\n"
     ]
    }
   ],
   "source": [
    "a= 2\n",
    "b= 5\n",
    "sum=a+b\n",
    "diff= b-a\n",
    "print(sum) \n",
    "print(diff)\n",
    "print(a==b)\n",
    "print(a!=b)\n",
    "print(a>=b)\n",
    "print(a<=b)"
   ]
  },
  {
   "cell_type": "code",
   "execution_count": 3,
   "id": "36782906",
   "metadata": {},
   "outputs": [
    {
     "name": "stdout",
     "output_type": "stream",
     "text": [
      "20\n"
     ]
    }
   ],
   "source": [
    "num = 10\n",
    "num += 10\n",
    "print(num)\n"
   ]
  },
  {
   "cell_type": "code",
   "execution_count": 4,
   "id": "7a75b48a",
   "metadata": {},
   "outputs": [
    {
     "name": "stdout",
     "output_type": "stream",
     "text": [
      "True\n",
      "False\n",
      "True\n"
     ]
    }
   ],
   "source": [
    "a=10\n",
    "b=20\n",
    "print(not(a>b))\n",
    "print((a>b)and (a<b))\n",
    "print((a>b)or (a<b))"
   ]
  },
  {
   "cell_type": "code",
   "execution_count": 12,
   "id": "22ad7b7c",
   "metadata": {},
   "outputs": [
    {
     "name": "stdout",
     "output_type": "stream",
     "text": [
      "please enter your name and age \n",
      "your name is  bayexzid  and age is 25\n"
     ]
    }
   ],
   "source": [
    "user= \"please enter your name and age\"\n",
    "name= str(input())\n",
    "age=int(input())\n",
    "\n",
    "print(user,\"\\nyour name is \",name , \" and age is\", age)"
   ]
  },
  {
   "cell_type": "code",
   "execution_count": 13,
   "id": "70390076",
   "metadata": {},
   "outputs": [
    {
     "name": "stdout",
     "output_type": "stream",
     "text": [
      "4\n"
     ]
    }
   ],
   "source": [
    "num1= int(input(\"enter first num :\"))\n",
    "num2= int(input(\"enter second num :\"))\n",
    "\n",
    "print(num1 +num2)"
   ]
  },
  {
   "cell_type": "code",
   "execution_count": 16,
   "id": "728f2421",
   "metadata": {},
   "outputs": [
    {
     "name": "stdout",
     "output_type": "stream",
     "text": [
      "9.0\n"
     ]
    }
   ],
   "source": [
    "side = float(input(\"enter one side\"))\n",
    "print(side ** 2)"
   ]
  },
  {
   "cell_type": "code",
   "execution_count": 18,
   "id": "fd515806",
   "metadata": {},
   "outputs": [
    {
     "name": "stdout",
     "output_type": "stream",
     "text": [
      "average= 2.5\n",
      "True\n"
     ]
    }
   ],
   "source": [
    "a= float(input(\"enter a = \"))\n",
    "b= float(input(\"enter b = \"))\n",
    "\n",
    "print(\"average=\",(a+b)/2)  \n",
    "print(a>b)"
   ]
  },
  {
   "cell_type": "code",
   "execution_count": 20,
   "id": "c912ed4b",
   "metadata": {},
   "outputs": [
    {
     "name": "stdout",
     "output_type": "stream",
     "text": [
      "2.5\n",
      "true\n"
     ]
    }
   ],
   "source": [
    "a = float(input(\"enter a : \"))\n",
    "b = float(input(\"enter b : \"))\n",
    "\n",
    "sum = a+ b\n",
    "avg = sum/2\n",
    "print(avg)\n",
    "\n",
    "if (a>b):\n",
    "    print(\"true\")\n",
    "else :\n",
    "    print (\"false\")"
   ]
  },
  {
   "cell_type": "code",
   "execution_count": null,
   "id": "7ee3b097",
   "metadata": {},
   "outputs": [],
   "source": []
  }
 ],
 "metadata": {
  "kernelspec": {
   "display_name": "Python 3",
   "language": "python",
   "name": "python3"
  },
  "language_info": {
   "codemirror_mode": {
    "name": "ipython",
    "version": 3
   },
   "file_extension": ".py",
   "mimetype": "text/x-python",
   "name": "python",
   "nbconvert_exporter": "python",
   "pygments_lexer": "ipython3",
   "version": "3.11.9"
  }
 },
 "nbformat": 4,
 "nbformat_minor": 5
}
