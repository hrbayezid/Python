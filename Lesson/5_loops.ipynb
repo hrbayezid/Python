{
 "cells": [
  {
   "cell_type": "markdown",
   "id": "d5b92cad",
   "metadata": {},
   "source": [
    "While"
   ]
  },
  {
   "cell_type": "code",
   "execution_count": 3,
   "id": "8c5e8d20",
   "metadata": {},
   "outputs": [
    {
     "name": "stdout",
     "output_type": "stream",
     "text": [
      "hello\n",
      "hello\n",
      "hello\n",
      "hello\n",
      "hello\n"
     ]
    }
   ],
   "source": [
    "count = 1\n",
    "while count <= 5:\n",
    "    print(\"hello\")\n",
    "    count+=1"
   ]
  },
  {
   "cell_type": "code",
   "execution_count": 5,
   "id": "24ac2bbe",
   "metadata": {},
   "outputs": [
    {
     "name": "stdout",
     "output_type": "stream",
     "text": [
      "5\n",
      "4\n",
      "3\n",
      "2\n",
      "1\n"
     ]
    }
   ],
   "source": [
    "i = 5\n",
    "\n",
    "while i>=1 :\n",
    "    print(i)\n",
    "    i-=1"
   ]
  },
  {
   "cell_type": "code",
   "execution_count": 9,
   "id": "76b3fcb1",
   "metadata": {},
   "outputs": [
    {
     "name": "stdout",
     "output_type": "stream",
     "text": [
      "10\n",
      "20\n",
      "30\n",
      "40\n",
      "50\n",
      "60\n",
      "70\n",
      "80\n",
      "90\n",
      "100\n"
     ]
    }
   ],
   "source": [
    "n= int(input(\"enter number : \"))\n",
    "i=1\n",
    "while i<=10 : \n",
    "    print(n*i)\n",
    "    i+=1"
   ]
  },
  {
   "cell_type": "code",
   "execution_count": 11,
   "id": "9de469d3",
   "metadata": {},
   "outputs": [
    {
     "name": "stdout",
     "output_type": "stream",
     "text": [
      "1\n",
      "4\n",
      "9\n",
      "16\n",
      "25\n",
      "36\n",
      "49\n",
      "64\n",
      "81\n",
      "100\n"
     ]
    }
   ],
   "source": [
    "numlist = [1,4,9,16,25,36,49,64,81,100]\n",
    "\n",
    "idx = 0\n",
    "\n",
    "while idx < len(numlist):\n",
    "    print(numlist[idx])\n",
    "    idx+=1"
   ]
  },
  {
   "cell_type": "code",
   "execution_count": 12,
   "id": "0f78a052",
   "metadata": {},
   "outputs": [
    {
     "name": "stdout",
     "output_type": "stream",
     "text": [
      "captain\n",
      "black\n",
      "hulk\n"
     ]
    }
   ],
   "source": [
    "heros = [\"captain\",\"black\",\"hulk\"]\n",
    "\n",
    "i = 0\n",
    "\n",
    "while i< len(heros):\n",
    "    print(heros[i])\n",
    "    i+=1"
   ]
  },
  {
   "cell_type": "code",
   "execution_count": 3,
   "id": "8c75a8d7",
   "metadata": {},
   "outputs": [
    {
     "name": "stdout",
     "output_type": "stream",
     "text": [
      "1\n",
      "4\n",
      "9\n",
      "16\n",
      "25\n",
      "36\n",
      "49\n",
      "64\n",
      "81\n"
     ]
    }
   ],
   "source": [
    "nums = [1,4,9,16,25,36,49,64,81,100]\n",
    "\n",
    "i = 0\n",
    "\n",
    "while i<len(nums) : \n",
    "    print(nums[i])\n",
    "    if nums[i] == 81:\n",
    "        break\n",
    "    i+=1"
   ]
  },
  {
   "cell_type": "code",
   "execution_count": 42,
   "id": "a698de08",
   "metadata": {},
   "outputs": [
    {
     "data": {
      "text/plain": [
       "{'Bayezid': 70}"
      ]
     },
     "execution_count": 42,
     "metadata": {},
     "output_type": "execute_result"
    }
   ],
   "source": [
    "marks = {}\n",
    "\n",
    "while True:\n",
    "    name =input(\"enter student's name :\").capitalize()\n",
    "    if name == \"Stop\":\n",
    "        break\n",
    "    else:\n",
    "        mark = int(input(\"enter mark : \"))\n",
    "        marks[name] = mark\n",
    "        \n",
    "marks\n",
    "    "
   ]
  },
  {
   "cell_type": "code",
   "execution_count": 26,
   "id": "767a1808",
   "metadata": {},
   "outputs": [
    {
     "name": "stdout",
     "output_type": "stream",
     "text": [
      "try again\n",
      "try again\n",
      "hello bayezid\n"
     ]
    }
   ],
   "source": [
    "while True:\n",
    "    name = input(\"enter name: \")\n",
    "    if (name == \"bayezid\"):\n",
    "        print(\"hello bayezid\")\n",
    "        break\n",
    "    else:\n",
    "        print(\"try again\")\n"
   ]
  },
  {
   "cell_type": "code",
   "execution_count": null,
   "id": "26e8cc20",
   "metadata": {},
   "outputs": [
    {
     "name": "stdout",
     "output_type": "stream",
     "text": [
      "5\n",
      "4\n",
      "3\n",
      "2\n",
      "1\n",
      "list is empty\n"
     ]
    }
   ],
   "source": [
    "\n",
    "a = [1,2,3,4,5]\n",
    "\n",
    "while a:\n",
    "    print(a.pop())\n",
    "else:\n",
    "    print(\"list is empty\")"
   ]
  },
  {
   "cell_type": "code",
   "execution_count": 38,
   "id": "673f1f1c",
   "metadata": {},
   "outputs": [
    {
     "data": {
      "text/plain": [
       "[5, 4, 3, 2, 1]"
      ]
     },
     "execution_count": 38,
     "metadata": {},
     "output_type": "execute_result"
    }
   ],
   "source": [
    "a = [1,2,3,4,5]\n",
    "b = []\n",
    "while a:\n",
    "    b.append(a.pop())\n",
    "b"
   ]
  },
  {
   "cell_type": "code",
   "execution_count": 40,
   "id": "1b7bacb0",
   "metadata": {},
   "outputs": [
    {
     "name": "stdout",
     "output_type": "stream",
     "text": [
      "too low\n",
      "too low\n",
      "too low\n",
      "too high\n",
      "you guessed it right\n",
      "the number was 6\n"
     ]
    }
   ],
   "source": [
    "import random\n",
    "n = random.randint(1,10)\n",
    "\n",
    "while True : \n",
    "    guess = int(input(\"enter a guess: \"))\n",
    "    if n==guess:\n",
    "        print(\"you guessed it right\")\n",
    "        break\n",
    "    if n<guess: \n",
    "        print(\"too high\")\n",
    "    elif n>guess:\n",
    "        print(\"too low\")\n",
    "    else:\n",
    "        print(\"try again\")\n",
    "        \n",
    "print(\"the number was\",n)\n"
   ]
  },
  {
   "cell_type": "markdown",
   "id": "6db15c61",
   "metadata": {},
   "source": [
    "For"
   ]
  },
  {
   "cell_type": "code",
   "execution_count": 5,
   "id": "28217eb3",
   "metadata": {},
   "outputs": [
    {
     "name": "stdout",
     "output_type": "stream",
     "text": [
      "1\n",
      "4\n",
      "9\n",
      "16\n",
      "25\n",
      "36\n"
     ]
    }
   ],
   "source": [
    "numbers = [1,4,9,16,25,36]\n",
    "\n",
    "for elements in numbers:\n",
    "    print(elements)\n"
   ]
  },
  {
   "cell_type": "code",
   "execution_count": 7,
   "id": "50061c33",
   "metadata": {},
   "outputs": [
    {
     "name": "stdout",
     "output_type": "stream",
     "text": [
      "a\n",
      "p\n",
      "p\n",
      "l\n",
      "e\n"
     ]
    }
   ],
   "source": [
    "str = \"applepie\"\n",
    "\n",
    "for latter in str :\n",
    "    print(latter)\n",
    "    if latter == \"e\":\n",
    "        break"
   ]
  },
  {
   "cell_type": "code",
   "execution_count": 13,
   "id": "60ccbff9",
   "metadata": {},
   "outputs": [
    {
     "name": "stdout",
     "output_type": "stream",
     "text": [
      "found at :  5\n"
     ]
    }
   ],
   "source": [
    "nums = (1,4,9,16,25,36,49,64,81,100,36)\n",
    "\n",
    "x = 36\n",
    "i = 0\n",
    "for el in nums :\n",
    "    if el == x :\n",
    "        print(\"found at : \",i)\n",
    "        break\n",
    "    i+=1"
   ]
  },
  {
   "cell_type": "code",
   "execution_count": 19,
   "id": "9a097255",
   "metadata": {},
   "outputs": [
    {
     "name": "stdout",
     "output_type": "stream",
     "text": [
      "5\n",
      "6\n",
      "7\n",
      "8\n",
      "9\n",
      "10\n"
     ]
    }
   ],
   "source": [
    "\n",
    "for el in range(5,11):\n",
    "    print (el)"
   ]
  },
  {
   "cell_type": "code",
   "execution_count": 20,
   "id": "0d4ab1fa",
   "metadata": {},
   "outputs": [
    {
     "name": "stdout",
     "output_type": "stream",
     "text": [
      "1\n",
      "3\n",
      "5\n",
      "7\n",
      "9\n",
      "10\n",
      "9\n",
      "8\n",
      "7\n",
      "6\n",
      "5\n",
      "4\n",
      "3\n",
      "2\n",
      "1\n"
     ]
    }
   ],
   "source": [
    "for el in range(1,10,2):\n",
    "    print(el)\n",
    "\n",
    "for el in range(10,0,-1):\n",
    "    print(el)"
   ]
  },
  {
   "cell_type": "code",
   "execution_count": 23,
   "id": "77587fb2",
   "metadata": {},
   "outputs": [
    {
     "name": "stdout",
     "output_type": "stream",
     "text": [
      "5\n",
      "10\n",
      "15\n",
      "20\n",
      "25\n",
      "30\n",
      "35\n",
      "40\n",
      "45\n",
      "50\n"
     ]
    }
   ],
   "source": [
    "n = int(input(\"enter number : \"))\n",
    "\n",
    "for i in range (1,11):\n",
    "    print(i*n)\n",
    "\n",
    "for i in range(5):\n",
    "    pass"
   ]
  },
  {
   "cell_type": "code",
   "execution_count": 26,
   "id": "df877c54",
   "metadata": {},
   "outputs": [
    {
     "data": {
      "text/plain": [
       "55"
      ]
     },
     "execution_count": 26,
     "metadata": {},
     "output_type": "execute_result"
    }
   ],
   "source": [
    "n = 10\n",
    "\n",
    "sum = 0\n",
    "\n",
    "for i in range(1,n+1):\n",
    "    sum+=i\n",
    "sum"
   ]
  },
  {
   "cell_type": "code",
   "execution_count": 37,
   "id": "5fe43bea",
   "metadata": {},
   "outputs": [
    {
     "data": {
      "text/plain": [
       "120"
      ]
     },
     "execution_count": 37,
     "metadata": {},
     "output_type": "execute_result"
    }
   ],
   "source": [
    "num = 5\n",
    "fact = 1\n",
    "\n",
    "for i in range(1,n+1):\n",
    "    fact*=i\n",
    "\n",
    "fact"
   ]
  },
  {
   "cell_type": "code",
   "execution_count": null,
   "id": "df311fdd",
   "metadata": {},
   "outputs": [
    {
     "data": {
      "text/plain": [
       "{'Bayezid': 70, 'Hi': 70, 'Bye': 90}"
      ]
     },
     "execution_count": 40,
     "metadata": {},
     "output_type": "execute_result"
    }
   ],
   "source": []
  },
  {
   "cell_type": "code",
   "execution_count": 46,
   "id": "63788306",
   "metadata": {},
   "outputs": [
    {
     "name": "stdout",
     "output_type": "stream",
     "text": [
      "attempt\n",
      "attempt\n",
      "attempt\n",
      "3 ATTEMPTS BUT failure\n"
     ]
    }
   ],
   "source": [
    "\n",
    "successful = False\n",
    "for _ in range (3):\n",
    "    print(\"attempt\")\n",
    "    if successful:\n",
    "        print(\"successful\")\n",
    "        break\n",
    "else:\n",
    "    print(\"3 ATTEMPTS BUT failure\")"
   ]
  },
  {
   "cell_type": "code",
   "execution_count": 54,
   "id": "e31bcd95",
   "metadata": {},
   "outputs": [
    {
     "name": "stdout",
     "output_type": "stream",
     "text": [
      "p*y*t*h*o*n*"
     ]
    }
   ],
   "source": [
    "for i in \"python\":\n",
    "    print(i, end=\"*\")"
   ]
  },
  {
   "cell_type": "code",
   "execution_count": 61,
   "id": "0112541b",
   "metadata": {},
   "outputs": [
    {
     "name": "stdout",
     "output_type": "stream",
     "text": [
      "even 2\n",
      "even 4\n",
      "even 6\n",
      "even 8\n",
      "even 10\n",
      "we got 5 even numbers\n"
     ]
    }
   ],
   "source": [
    "count =0\n",
    "for even in range(1,11):\n",
    "    if (even%2 == 0):\n",
    "        print(\"even\",even)\n",
    "        count+=1\n",
    "print(f\"we got {count} even numbers\")"
   ]
  },
  {
   "cell_type": "code",
   "execution_count": 62,
   "id": "fd85e2ec",
   "metadata": {},
   "outputs": [
    {
     "name": "stdout",
     "output_type": "stream",
     "text": [
      "1 2 3 4 5 6 7 8 9 10 \n",
      "1 2 3 4 5 6 7 8 9 10 \n",
      "1 2 3 4 5 6 7 8 9 10 \n",
      "1 2 3 4 5 6 7 8 9 10 \n",
      "1 2 3 4 5 6 7 8 9 10 \n"
     ]
    }
   ],
   "source": [
    "for _ in range(5):\n",
    "    for y in range(1,11):\n",
    "        print(y,end=\" \")\n",
    "    print()"
   ]
  },
  {
   "cell_type": "code",
   "execution_count": 1,
   "id": "84a19f79",
   "metadata": {},
   "outputs": [
    {
     "name": "stdout",
     "output_type": "stream",
     "text": [
      "* \n",
      "* * \n",
      "* * * \n",
      "* * * * \n",
      "* * * * * \n"
     ]
    }
   ],
   "source": [
    "for i in range (5):\n",
    "    print((i+1)*\"* \") "
   ]
  },
  {
   "cell_type": "code",
   "execution_count": 2,
   "id": "f8d2a1fb",
   "metadata": {},
   "outputs": [
    {
     "name": "stdout",
     "output_type": "stream",
     "text": [
      "* * * * * \n",
      "* * * * * \n",
      "* * * * * \n",
      "* * * * * \n"
     ]
    }
   ],
   "source": [
    "# table #\n",
    "col = int(input(\"enter col: \"))\n",
    "row = int(input(\"enter row: \"))\n",
    "sym = input(\"enter symbol: \")\n",
    "\n",
    "for _ in range(row):\n",
    "    for _ in range(col):\n",
    "        print(sym,end=\" \")\n",
    "    print()"
   ]
  },
  {
   "cell_type": "code",
   "execution_count": 16,
   "id": "582ebe68",
   "metadata": {},
   "outputs": [
    {
     "name": "stdout",
     "output_type": "stream",
     "text": [
      "* \n",
      "* * \n",
      "* * * \n",
      "* * * * \n",
      "* * * * * \n"
     ]
    }
   ],
   "source": [
    "n = int(input(\"enter number: \"))\n",
    "\n",
    "for i in range(n):\n",
    "    for _ in range(i+1) :\n",
    "        print(\"*\",end=\" \")\n",
    "    print()"
   ]
  },
  {
   "cell_type": "code",
   "execution_count": 24,
   "id": "6d2620fc",
   "metadata": {},
   "outputs": [
    {
     "name": "stdout",
     "output_type": "stream",
     "text": [
      "* * * * \n",
      "* * * \n",
      "* * \n",
      "* \n"
     ]
    }
   ],
   "source": [
    "n = int(input(\"enter number: \"))\n",
    "for i in range(n-1,-1,-1):\n",
    "    for _ in range(i+1):\n",
    "        print(\"*\", end=\" \")\n",
    "    print()"
   ]
  },
  {
   "cell_type": "code",
   "execution_count": 52,
   "id": "7e3c312c",
   "metadata": {},
   "outputs": [
    {
     "name": "stdout",
     "output_type": "stream",
     "text": [
      "apple\n",
      "banana\n",
      "cherry\n"
     ]
    }
   ],
   "source": [
    "fruits = [\"apple\", \"banana\", \"cherry\"]\n",
    "\n",
    "for fruit in  fruits:\n",
    "    print(fruit)"
   ]
  },
  {
   "cell_type": "code",
   "execution_count": 9,
   "id": "1987e05b",
   "metadata": {},
   "outputs": [
    {
     "name": "stdout",
     "output_type": "stream",
     "text": [
      "red apple\n",
      "big banana\n",
      "tasty cherry\n",
      "red apple\n",
      "big banana\n",
      "tasty cherry\n",
      "red apple\n",
      "big banana\n",
      "tasty cherry\n"
     ]
    }
   ],
   "source": [
    "\n",
    "adjs = [\"red\", \"big\", \"tasty\"]\n",
    "nouns = [\"apple\", \"banana\", \"cherry\"]\n",
    "\n",
    "\n",
    "for adj in adjs:\n",
    "    i =0\n",
    "    for noun in nouns:\n",
    "        print(adjs [i] , nouns[i])\n",
    "        i+=1"
   ]
  },
  {
   "cell_type": "code",
   "execution_count": 60,
   "id": "b5bfd829",
   "metadata": {},
   "outputs": [
    {
     "name": "stdout",
     "output_type": "stream",
     "text": [
      "apple apple apple apple apple \n",
      "banana banana banana banana banana \n",
      "cherry cherry cherry cherry cherry \n"
     ]
    }
   ],
   "source": [
    "\n",
    "fruits = [\"apple\", \"banana\", \"cherry\"]\n",
    "for fruit in fruits:\n",
    "    count = 1\n",
    "    while count <=5:\n",
    "        print (fruit, end=\" \")\n",
    "        count +=1\n",
    "    print()"
   ]
  },
  {
   "cell_type": "code",
   "execution_count": 10,
   "id": "d5f97517",
   "metadata": {},
   "outputs": [
    {
     "name": "stdout",
     "output_type": "stream",
     "text": [
      "red apple\n",
      "big banana\n",
      "tasty cherry\n"
     ]
    }
   ],
   "source": [
    "for adj, noun in zip(adjs, nouns):\n",
    "    print(adj, noun)"
   ]
  },
  {
   "cell_type": "code",
   "execution_count": 55,
   "id": "5ef9d786",
   "metadata": {},
   "outputs": [
    {
     "name": "stdout",
     "output_type": "stream",
     "text": [
      "['red book', 'red pen', 'red pencil', 'green book', 'green pen', 'green pencil', 'blue book', 'blue pen', 'blue pencil']\n"
     ]
    }
   ],
   "source": [
    "colors =[\"red\", \"green\", \"blue\"]\n",
    "items = [\"book\", \"pen\", \"pencil\"]\n",
    "\n",
    "colored_items = []\n",
    "for color in colors:\n",
    "    for item in items:\n",
    "        colored_items.append(color +\" \"+ item)\n",
    "\n",
    "print(colored_items)\n",
    "\n",
    "\n"
   ]
  },
  {
   "cell_type": "code",
   "execution_count": 11,
   "id": "cd10ffba",
   "metadata": {},
   "outputs": [
    {
     "name": "stdout",
     "output_type": "stream",
     "text": [
      "sum 55\n",
      "average 5.5\n"
     ]
    }
   ],
   "source": [
    "lst= [1,2,3,4,5,6,7,8,9,10]\n",
    "\n",
    "sum = 0\n",
    "for i in lst:\n",
    "    sum+=i\n",
    "print(\"sum\",sum)\n",
    "print(\"average\",sum/len(lst))"
   ]
  },
  {
   "cell_type": "code",
   "execution_count": 14,
   "id": "cc83eb89",
   "metadata": {},
   "outputs": [
    {
     "name": "stdout",
     "output_type": "stream",
     "text": [
      "[1, 2, 3, 4, 5, 6, 7, 8, 9, 10]\n",
      "[1, 8, 27, 64, 125, 216, 343, 512, 729, 1000]\n"
     ]
    }
   ],
   "source": [
    "num = [1,2,3,4,5,6,7,8,9,10]\n",
    "cube = []\n",
    "\n",
    "for i in num:\n",
    "    cube .append(i ** 3)\n",
    "print(num)\n",
    "print(cube)"
   ]
  },
  {
   "cell_type": "code",
   "execution_count": 43,
   "id": "ad90caab",
   "metadata": {},
   "outputs": [
    {
     "name": "stdout",
     "output_type": "stream",
     "text": [
      "the sum of even numbers from 0-10 is: 30\n"
     ]
    }
   ],
   "source": [
    "\n",
    "sum = 0\n",
    "for i in range(11):\n",
    "    if (i%2 == 0):\n",
    "        sum = sum+i\n",
    "print(\"the sum of even numbers from 0-10 is:\",sum )\n",
    "\n"
   ]
  },
  {
   "cell_type": "code",
   "execution_count": 63,
   "id": "1591d6f6",
   "metadata": {},
   "outputs": [
    {
     "name": "stdout",
     "output_type": "stream",
     "text": [
      "[1, 5]\n"
     ]
    }
   ],
   "source": [
    "lst = [1, 5, 6, 5, 1, 2, 3]\n",
    "dup = []\n",
    "\n",
    "for i in lst:\n",
    "    if lst.count(i) > 1:\n",
    "        if i not in dup:\n",
    "            dup.append(i)\n",
    "\n",
    "print(dup)"
   ]
  },
  {
   "cell_type": "code",
   "execution_count": null,
   "id": "8b25ed69",
   "metadata": {},
   "outputs": [],
   "source": []
  }
 ],
 "metadata": {
  "kernelspec": {
   "display_name": "Python 3",
   "language": "python",
   "name": "python3"
  },
  "language_info": {
   "codemirror_mode": {
    "name": "ipython",
    "version": 3
   },
   "file_extension": ".py",
   "mimetype": "text/x-python",
   "name": "python",
   "nbconvert_exporter": "python",
   "pygments_lexer": "ipython3",
   "version": "3.11.9"
  }
 },
 "nbformat": 4,
 "nbformat_minor": 5
}
