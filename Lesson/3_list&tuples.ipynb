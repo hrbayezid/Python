{
 "cells": [
  {
   "cell_type": "markdown",
   "id": "67996149",
   "metadata": {},
   "source": [
    "list"
   ]
  },
  {
   "cell_type": "code",
   "execution_count": 1,
   "id": "41eec58c",
   "metadata": {},
   "outputs": [
    {
     "name": "stdout",
     "output_type": "stream",
     "text": [
      "redowan\n",
      "apple\n",
      "4\n",
      "None\n",
      "[85.3, 86, 90, 90, 95.5, 99.4]\n",
      "['redowan', 'apple', 'mango']\n",
      "['apple', 'mango']\n",
      "[85]\n",
      "[]\n"
     ]
    }
   ],
   "source": [
    "marks = [99.4, 85.3,90, 95.5,90, 86]\n",
    "\n",
    "student = [\"bayezid\",\"apple\",\"mango\", 85 ]\n",
    "student [0] = \"redowan\"\n",
    "print(student[0])\n",
    "print(student[1])\n",
    "print(len(student))\n",
    "print(marks.sort())\n",
    "print (marks)\n",
    "print(student[:3])\n",
    "print(student[1:3])\n",
    "print(student[3:])\n",
    "print(student[3:-1])"
   ]
  },
  {
   "cell_type": "code",
   "execution_count": 11,
   "id": "b59b36bd",
   "metadata": {},
   "outputs": [
    {
     "name": "stdout",
     "output_type": "stream",
     "text": [
      "[99.4, 95.5, 90, 90, 90, 86, 85.3]\n",
      "[95.5, 90, 90, 86, 85.3]\n"
     ]
    }
   ],
   "source": [
    "marks = [99.4, 85.3,90, 95.5,90, 86]\n",
    "\n",
    "marks.append(90)\n",
    "marks.sort(reverse=True)\n",
    "print(marks)\n",
    "\n",
    "marks.remove(90)\n",
    "marks.pop(0)\n",
    "print(marks)\n"
   ]
  },
  {
   "cell_type": "code",
   "execution_count": 10,
   "id": "917613fd",
   "metadata": {},
   "outputs": [
    {
     "name": "stdout",
     "output_type": "stream",
     "text": [
      "['cow', 85, 'mango', 'apple', 'bayezid']\n"
     ]
    }
   ],
   "source": [
    "student = [\"bayezid\",\"apple\",\"mango\", 85 ]\n",
    "\n",
    "student.reverse()\n",
    "student.insert(0,\"cow\")\n",
    "print(student)\n"
   ]
  },
  {
   "cell_type": "code",
   "execution_count": 16,
   "id": "916b401b",
   "metadata": {},
   "outputs": [
    {
     "name": "stdout",
     "output_type": "stream",
     "text": [
      "['A', 'B', 'D', 'F', 'F', 'F', 'a', 'c']\n",
      "3\n"
     ]
    }
   ],
   "source": [
    "grades = [\"A\" , \"B\" , \"c\", \"F\" ,\"D\",\"F\" , \"F\",\"a\"]\n",
    "c = grades.count(\"F\")\n",
    "grades.sort()\n",
    "print(grades)\n",
    "print(c)\n"
   ]
  },
  {
   "cell_type": "code",
   "execution_count": 17,
   "id": "8ea067f3",
   "metadata": {},
   "outputs": [
    {
     "name": "stdout",
     "output_type": "stream",
     "text": [
      "['iron mman', 'hulk', 'bla']\n"
     ]
    }
   ],
   "source": [
    "favmov = []\n",
    "mov1 = favmov.append(input ( \"enter first movie : \"))\n",
    "mov2 = favmov.append(input ( \"enter second movie : \"))\n",
    "mov3 = favmov.append(input ( \"enter third movie  : \"))\n",
    "\n",
    "print(favmov)"
   ]
  },
  {
   "cell_type": "code",
   "execution_count": 25,
   "id": "fd72c5a4",
   "metadata": {},
   "outputs": [
    {
     "name": "stdout",
     "output_type": "stream",
     "text": [
      "[]\n"
     ]
    }
   ],
   "source": [
    "favmov = []\n",
    "n = int (input(\"how many movies are your favourite : \"))\n",
    "    \n",
    "for movie in range(1,n+1) :\n",
    "    movie =input(\"enter movie name (type stop to quit): \").capitalize()\n",
    "    if (movie == \"Stop\"):\n",
    "        break   \n",
    "    else:\n",
    "        favmov.append(movie)\n",
    "\n",
    "       \n",
    "print(favmov)\n"
   ]
  },
  {
   "cell_type": "code",
   "execution_count": 37,
   "id": "73b08d5a",
   "metadata": {},
   "outputs": [
    {
     "name": "stdout",
     "output_type": "stream",
     "text": [
      "['hola', 'bola', 'gola']\n"
     ]
    }
   ],
   "source": [
    "\n",
    "movies = []\n",
    "\n",
    "firstmov= input(\"1st name : \")\n",
    "movies.append(firstmov)\n",
    "secondmov= input(\"second name : \")\n",
    "movies.append(secondmov)\n",
    "\n",
    "movies.append(input(\"third name : \"))\n",
    "\n",
    "print(movies)"
   ]
  },
  {
   "cell_type": "markdown",
   "id": "f26413ff",
   "metadata": {},
   "source": [
    "Tuple"
   ]
  },
  {
   "cell_type": "code",
   "execution_count": 12,
   "id": "a5ae9d38",
   "metadata": {},
   "outputs": [
    {
     "name": "stdout",
     "output_type": "stream",
     "text": [
      "<class 'tuple'>\n",
      "2\n",
      "2\n"
     ]
    }
   ],
   "source": [
    "tup= (1,2,3,1,2,\"bayezid\")\n",
    "\n",
    "print(type(tup))\n",
    "print(tup.index(3))\n",
    "print(tup.count(2))"
   ]
  },
  {
   "cell_type": "code",
   "execution_count": null,
   "id": "8a37794d",
   "metadata": {},
   "outputs": [
    {
     "name": "stdout",
     "output_type": "stream",
     "text": [
      "['a', 'a', 'a', 'b', 'c', 'd']\n",
      "3\n"
     ]
    }
   ],
   "source": [
    "def grade ():\n",
    "    grade = input(\"enter the grade : \")\n",
    "    tup = (\"c\",\"d\",\"a\",\"b\",\"a\",\"a\")\n",
    "    sorted = list(tup)\n",
    "    sorted.sort()\n",
    "    print (sorted)\n",
    "    print(tup.count(grade))\n",
    "\n",
    "grade()\n",
    "\n"
   ]
  },
  {
   "cell_type": "code",
   "execution_count": null,
   "id": "313a815b",
   "metadata": {},
   "outputs": [],
   "source": [
    "\n",
    "\n",
    "\n"
   ]
  }
 ],
 "metadata": {
  "kernelspec": {
   "display_name": "Python 3",
   "language": "python",
   "name": "python3"
  },
  "language_info": {
   "codemirror_mode": {
    "name": "ipython",
    "version": 3
   },
   "file_extension": ".py",
   "mimetype": "text/x-python",
   "name": "python",
   "nbconvert_exporter": "python",
   "pygments_lexer": "ipython3",
   "version": "3.11.9"
  }
 },
 "nbformat": 4,
 "nbformat_minor": 5
}
