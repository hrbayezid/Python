{
 "cells": [
  {
   "cell_type": "code",
   "execution_count": 12,
   "id": "ac91948e",
   "metadata": {},
   "outputs": [
    {
     "name": "stdout",
     "output_type": "stream",
     "text": [
      "invalid literal for int() with base 10: 'sgrwf'\n",
      "ValueError\n",
      "this will alwas appear\n"
     ]
    }
   ],
   "source": [
    "try:\n",
    "    num = int(input(\"enter number : \"))\n",
    "    devider = int(input(\"enter the devider : \"))\n",
    "\n",
    "    result = num / devider\n",
    "    \n",
    "except ZeroDivisionError as e:\n",
    "    print(e)\n",
    "    print(\"ZeroDivisionError\")\n",
    "except ValueError as e:\n",
    "    print(e)\n",
    "    print(\"ValueError\")  \n",
    "else:\n",
    "    print(result) \n",
    "\n",
    "finally :\n",
    "    print(\"this will alwas appear\")\n",
    "                             \n"
   ]
  },
  {
   "cell_type": "code",
   "execution_count": null,
   "id": "1b93a105",
   "metadata": {},
   "outputs": [],
   "source": []
  }
 ],
 "metadata": {
  "kernelspec": {
   "display_name": "Python 3",
   "language": "python",
   "name": "python3"
  },
  "language_info": {
   "codemirror_mode": {
    "name": "ipython",
    "version": 3
   },
   "file_extension": ".py",
   "mimetype": "text/x-python",
   "name": "python",
   "nbconvert_exporter": "python",
   "pygments_lexer": "ipython3",
   "version": "3.11.9"
  }
 },
 "nbformat": 4,
 "nbformat_minor": 5
}
