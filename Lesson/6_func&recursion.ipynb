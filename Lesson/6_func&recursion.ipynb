{
 "cells": [
  {
   "cell_type": "code",
   "execution_count": 8,
   "id": "5ba03566",
   "metadata": {},
   "outputs": [
    {
     "name": "stdout",
     "output_type": "stream",
     "text": [
      "5\n",
      "3\n",
      "5.0\n",
      "4\n"
     ]
    }
   ],
   "source": [
    "def calculate(a,b,process):\n",
    "    if (process == \"add\"):\n",
    "        return a+b\n",
    "\n",
    "    elif (process ==  \"sub\"):\n",
    "        sub = a-b\n",
    "        print(sub)\n",
    "        return sub\n",
    "        \n",
    "    elif (process == \"mul\"):\n",
    "        return a*b\n",
    "\n",
    "    elif ( process == \"div\"):\n",
    "        return a/b\n",
    "\n",
    "    else:\n",
    "        return \"invalid\"\n",
    "\n",
    "print(calculate(2,3,\"add\"))\n",
    "calculate(6,3,\"sub\")\n",
    "print(calculate(10,2,\"div\"))\n",
    "print(calculate(2,2,\"mul\"))"
   ]
  },
  {
   "cell_type": "code",
   "execution_count": 2,
   "id": "cace0bdf",
   "metadata": {},
   "outputs": [
    {
     "name": "stdout",
     "output_type": "stream",
     "text": [
      "hello hello hello hello hello \n"
     ]
    }
   ],
   "source": [
    "def print_hello():\n",
    "    return(5*\"hello \")\n",
    "\n",
    "output =print_hello()\n",
    "print (output)"
   ]
  },
  {
   "cell_type": "code",
   "execution_count": 1,
   "id": "cfc91c19",
   "metadata": {},
   "outputs": [
    {
     "data": {
      "text/plain": [
       "27"
      ]
     },
     "execution_count": 1,
     "metadata": {},
     "output_type": "execute_result"
    }
   ],
   "source": [
    "def cube_calculator ():\n",
    "    num_cube = int(input(\"enter number: \"))\n",
    "    cube = num_cube**3\n",
    "    return cube\n",
    "\n",
    "\n",
    "cube_calculator()"
   ]
  },
  {
   "cell_type": "code",
   "execution_count": null,
   "id": "ae64f6f0",
   "metadata": {},
   "outputs": [
    {
     "name": "stdout",
     "output_type": "stream",
     "text": [
      "avg is :  2.0\n"
     ]
    }
   ],
   "source": [
    "\n",
    "def avg ():\n",
    "    a = int (input(\"1st num : \"))\n",
    "    b = int (input(\"2nd num : \"))\n",
    "    c = int (input(\"3rd num : \"))\n",
    "\n",
    "    return ((a+b+c)/3)\n",
    "\n",
    "print(\"avg is : \",avg())"
   ]
  },
  {
   "cell_type": "code",
   "execution_count": 6,
   "id": "595aefe3",
   "metadata": {},
   "outputs": [
    {
     "data": {
      "text/plain": [
       "2.0"
      ]
     },
     "execution_count": 6,
     "metadata": {},
     "output_type": "execute_result"
    }
   ],
   "source": [
    "def claculate_avg(a,b,c):\n",
    "    sum = a+b+c\n",
    "    avg = sum/3\n",
    "\n",
    "    return avg\n",
    "   \n",
    "claculate_avg(2,2,2)"
   ]
  },
  {
   "cell_type": "code",
   "execution_count": 15,
   "id": "453b08ed",
   "metadata": {},
   "outputs": [
    {
     "name": "stdout",
     "output_type": "stream",
     "text": [
      "3\n",
      "4\n",
      "ironman thor hulk "
     ]
    }
   ],
   "source": [
    "heros = [\"ironman\", \"thor\" ,\"hulk\"]\n",
    "fruits = [\"banana\", \"mango\", \"apple\",\"guava\"]\n",
    "\n",
    "def total_items(list):\n",
    "    return len(list)\n",
    "\n",
    "def print_list(list):\n",
    "    for items in list:\n",
    "        print(items,end=\" \")\n",
    "\n",
    "print(total_items(heros))\n",
    "print(total_items(fruits))\n",
    "print_list(heros)"
   ]
  },
  {
   "cell_type": "code",
   "execution_count": 16,
   "id": "19ef7b0f",
   "metadata": {},
   "outputs": [
    {
     "name": "stdout",
     "output_type": "stream",
     "text": [
      "120\n"
     ]
    }
   ],
   "source": [
    "\n",
    "def factorial(n):\n",
    "    fact =1 \n",
    "    for i in range(1,n+1):\n",
    "        fact*=i\n",
    "    \n",
    "    print (fact)\n",
    "        \n",
    "\n",
    "factorial(5)"
   ]
  },
  {
   "cell_type": "code",
   "execution_count": 17,
   "id": "a566984f",
   "metadata": {},
   "outputs": [
    {
     "data": {
      "text/plain": [
       "4500"
      ]
     },
     "execution_count": 17,
     "metadata": {},
     "output_type": "execute_result"
    }
   ],
   "source": [
    "def convevrt ():\n",
    "    x = int(input(\"enter pound : \"))\n",
    "    tk = 150*x\n",
    "\n",
    "    return tk\n",
    "\n",
    "convevrt()"
   ]
  },
  {
   "cell_type": "code",
   "execution_count": 20,
   "id": "0fa62ed0",
   "metadata": {},
   "outputs": [
    {
     "name": "stdout",
     "output_type": "stream",
     "text": [
      "even\n"
     ]
    }
   ],
   "source": [
    "\n",
    "def oddOrEven ():\n",
    "    num=int(input(\"enter the number: \"))\n",
    "\n",
    "    if (num%2 == 0):\n",
    "        print(\"even\")\n",
    "    else:\n",
    "        print(\"odd\")\n",
    "\n",
    "oddOrEven()"
   ]
  },
  {
   "cell_type": "markdown",
   "id": "037fd590",
   "metadata": {},
   "source": [
    "recursion"
   ]
  },
  {
   "cell_type": "code",
   "execution_count": 27,
   "id": "1cffb764",
   "metadata": {},
   "outputs": [
    {
     "name": "stdout",
     "output_type": "stream",
     "text": [
      "1\n",
      "2\n",
      "3\n",
      "4\n",
      "5\n",
      "6\n",
      "7\n",
      "8\n",
      "9\n"
     ]
    }
   ],
   "source": [
    "\n",
    "def show(n):\n",
    "\n",
    "    if (n == 10):\n",
    "        return\n",
    "    print (n)\n",
    "    show(n+1)\n",
    "\n",
    "show(1)"
   ]
  },
  {
   "cell_type": "code",
   "execution_count": 28,
   "id": "5deaf3ae",
   "metadata": {},
   "outputs": [
    {
     "name": "stdout",
     "output_type": "stream",
     "text": [
      "120\n"
     ]
    }
   ],
   "source": [
    "def fact (n):\n",
    "    \n",
    "    if (n==0 or n == 1):\n",
    "        return 1\n",
    "    else:\n",
    "        return n * fact(n-1)\n",
    "print(fact(5))"
   ]
  },
  {
   "cell_type": "code",
   "execution_count": 31,
   "id": "cd382720",
   "metadata": {},
   "outputs": [
    {
     "data": {
      "text/plain": [
       "55"
      ]
     },
     "execution_count": 31,
     "metadata": {},
     "output_type": "execute_result"
    }
   ],
   "source": [
    "def calculate_sum(n = int (input (\"enter number : \"))):\n",
    "\n",
    "    if (n == 0):\n",
    "        return 0\n",
    "        \n",
    "    else:  \n",
    "        return n + calculate_sum(n-1) \n",
    "\n",
    "\n",
    "calculate_sum()"
   ]
  },
  {
   "cell_type": "code",
   "execution_count": null,
   "id": "e8ec2981",
   "metadata": {},
   "outputs": [],
   "source": []
  }
 ],
 "metadata": {
  "kernelspec": {
   "display_name": "Python 3",
   "language": "python",
   "name": "python3"
  },
  "language_info": {
   "codemirror_mode": {
    "name": "ipython",
    "version": 3
   },
   "file_extension": ".py",
   "mimetype": "text/x-python",
   "name": "python",
   "nbconvert_exporter": "python",
   "pygments_lexer": "ipython3",
   "version": "3.11.9"
  }
 },
 "nbformat": 4,
 "nbformat_minor": 5
}
