{
 "cells": [
  {
   "cell_type": "markdown",
   "id": "026b8c20",
   "metadata": {},
   "source": [
    "Dictionary\n"
   ]
  },
  {
   "cell_type": "code",
   "execution_count": 3,
   "id": "89807cc2",
   "metadata": {},
   "outputs": [],
   "source": [
    "info = {\n",
    "    \"name\" : \"bayezid\",\n",
    "    85 : \"id\",\n",
    "    \"age\" : 25 ,\n",
    "    \"student\" : True ,\n",
    "    \"marks\" : 80.6 ,\n",
    "    \"subjects\" : [\"math\", \"python\", \"ML\"],\n",
    "    \"topic\" : ( \"set\" , \"dictionary\"),\n",
    "    \"nuldict\" : {},\n",
    "\n",
    "}"
   ]
  },
  {
   "cell_type": "code",
   "execution_count": 9,
   "id": "b7f78e49",
   "metadata": {},
   "outputs": [
    {
     "name": "stdout",
     "output_type": "stream",
     "text": [
      "{'name': 'hifzur', 85: 'id', 'age': 25, 'student': True, 'marks': 80.6, 'subjects': ['math', 'python', 'ML'], 'topic': ('set', 'dictionary'), 'nuldict': {'bye', 'hello', 'hi'}}\n",
      "<class 'dict'>\n",
      "dict_keys(['name', 85, 'age', 'student', 'marks', 'subjects', 'topic', 'nuldict'])\n",
      "dict_values(['hifzur', 'id', 25, True, 80.6, ['math', 'python', 'ML'], ('set', 'dictionary'), {'bye', 'hello', 'hi'}])\n",
      "hifzur\n",
      "dict_items([('name', 'hifzur'), (85, 'id'), ('age', 25), ('student', True), ('marks', 80.6), ('subjects', ['math', 'python', 'ML']), ('topic', ('set', 'dictionary')), ('nuldict', {'bye', 'hello', 'hi'})])\n",
      "{'bye', 'hello', 'hi'}\n"
     ]
    }
   ],
   "source": [
    "\n",
    "info[\"name\"] = \"hifzur\"\n",
    "print(info)\n",
    "print(type(info))\n",
    "\n",
    "print(info.keys())\n",
    "print(info.values())\n",
    "print(info.get(\"name\"))\n",
    "print(info.items())\n",
    "\n",
    "newdict = {\n",
    "    \"nuldict\" : {\"hello\" , \"hi\", \"bye\"}\n",
    "}\n",
    "\n",
    "info.update(newdict)\n",
    "print(info.get(\"nuldict\"))"
   ]
  },
  {
   "cell_type": "code",
   "execution_count": 42,
   "id": "25ef585d",
   "metadata": {},
   "outputs": [
    {
     "name": "stdout",
     "output_type": "stream",
     "text": [
      "[('phy', 67), ('che', 8), ('math', 990)]\n",
      "your avaerage score :  355.0\n"
     ]
    }
   ],
   "source": [
    "marks = {}\n",
    "\n",
    "while True:\n",
    "    stop_input = input(\"press enter or stop to exit\").capitalize()\n",
    "   \n",
    "    \n",
    "    if stop_input == \"Stop\":\n",
    "        break\n",
    "    else:\n",
    "        phy = int(input(\"Enter the physics numbers: \"))\n",
    "        marks.update({\"phy\": phy})\n",
    "        \n",
    "        che = int(input(\"Enter the 2nd chemistry numbers: \"))\n",
    "        marks.update({\"che\": che})\n",
    "        \n",
    "        math = int(input(\"Enter the 3rd math numbers: \"))\n",
    "        marks.update({\"math\": math})\n",
    "\n",
    "        break\n",
    "\n",
    "print(list(marks.items()))\n",
    "\n",
    "mark_list= list(marks.values())\n",
    "sum = 0\n",
    "for i in mark_list :\n",
    "    sum+=i\n",
    "\n",
    "avg = sum/len(mark_list)\n",
    "print( \"your avaerage score : \",avg)\n"
   ]
  },
  {
   "cell_type": "code",
   "execution_count": 47,
   "id": "8cf4d443",
   "metadata": {},
   "outputs": [
    {
     "name": "stdout",
     "output_type": "stream",
     "text": [
      "{'hindi': 70, 'bangla': 90, 'english': 60}\n"
     ]
    }
   ],
   "source": [
    "\n",
    "marks = {}\n",
    "\n",
    "n = int(input(\"how many sub : \"))\n",
    "for i in range(1,n+1):\n",
    "    sub = input(\"enter sub name : \")\n",
    "    mark = int(input(\"enter marks : \"))\n",
    "    marks.update({sub : mark})\n",
    "print (marks)"
   ]
  },
  {
   "cell_type": "markdown",
   "id": "d59f063c",
   "metadata": {},
   "source": [
    "Set"
   ]
  },
  {
   "cell_type": "code",
   "execution_count": 18,
   "id": "f892c143",
   "metadata": {},
   "outputs": [
    {
     "name": "stdout",
     "output_type": "stream",
     "text": [
      "<class 'set'>\n",
      "{'', 3}\n"
     ]
    }
   ],
   "source": [
    "coll = {\"\"}\n",
    "print(type(coll))\n",
    "coll.add(3)\n",
    "print(coll)"
   ]
  },
  {
   "cell_type": "code",
   "execution_count": 19,
   "id": "b85e2cb2",
   "metadata": {},
   "outputs": [
    {
     "name": "stdout",
     "output_type": "stream",
     "text": [
      "<class 'set'>\n",
      "4\n",
      "2\n",
      "{3, 'hello', (5, 8, 'bayezid')}\n"
     ]
    }
   ],
   "source": [
    "collection = { 1,2,2,2,3,\"hello\"}\n",
    "\n",
    "print(type (collection))\n",
    "print(len(collection))\n",
    "collection.add((5,8,\"bayezid\"))\n",
    "collection.remove(1)\n",
    "print(collection.pop())\n",
    "print (collection) "
   ]
  },
  {
   "cell_type": "code",
   "execution_count": 20,
   "id": "1726ac3f",
   "metadata": {},
   "outputs": [
    {
     "name": "stdout",
     "output_type": "stream",
     "text": [
      "{'', (5, 8, 'bayezid'), 3, 'hello'}\n",
      "{3}\n"
     ]
    }
   ],
   "source": [
    "union = coll.union(collection)\n",
    "common = coll.intersection (collection)\n",
    "\n",
    "print(union)\n",
    "print(common)"
   ]
  },
  {
   "cell_type": "code",
   "execution_count": 21,
   "id": "97105c68",
   "metadata": {},
   "outputs": [
    {
     "name": "stdout",
     "output_type": "stream",
     "text": [
      "the classroom will need is :  5\n"
     ]
    }
   ],
   "source": [
    "sub  = { \"python\",\"java\",\"python\",\"java\",\"c\",\"c\",\"c\",\"c++\",\"c#\",\"c#\"}\n",
    "\n",
    "print(\"the classroom will need is : \", len(sub))\n",
    "\n"
   ]
  },
  {
   "cell_type": "code",
   "execution_count": 45,
   "id": "4a2a5452",
   "metadata": {},
   "outputs": [
    {
     "name": "stdout",
     "output_type": "stream",
     "text": [
      "classroom is needed for all student is :  5\n"
     ]
    }
   ],
   "source": [
    "sub = [\"py\", \"java\", \"py\", \"java\",\"c\", \"c++\",\"c\",\"c#\"]\n",
    "classes = set(sub)\n",
    "print(\"classroom is needed for all student is : \", len(classes))"
   ]
  },
  {
   "cell_type": "code",
   "execution_count": 43,
   "id": "c8a5c742",
   "metadata": {},
   "outputs": [
    {
     "name": "stdout",
     "output_type": "stream",
     "text": [
      "{9, '9.0', ('float', 9.0, 'int', 9)}\n"
     ]
    }
   ],
   "source": [
    "setvalue = {9, \"9.0\"}\n",
    "setvalue.add((\"float\",9.0,\"int\",9))\n",
    "print(setvalue)"
   ]
  },
  {
   "cell_type": "code",
   "execution_count": null,
   "id": "28b30a0c",
   "metadata": {},
   "outputs": [
    {
     "name": "stdout",
     "output_type": "stream",
     "text": [
      "classroom is needed for all student is :  5\n"
     ]
    }
   ],
   "source": [
    "\n"
   ]
  },
  {
   "cell_type": "code",
   "execution_count": null,
   "id": "cd41978a",
   "metadata": {},
   "outputs": [],
   "source": []
  }
 ],
 "metadata": {
  "kernelspec": {
   "display_name": "Python 3",
   "language": "python",
   "name": "python3"
  },
  "language_info": {
   "codemirror_mode": {
    "name": "ipython",
    "version": 3
   },
   "file_extension": ".py",
   "mimetype": "text/x-python",
   "name": "python",
   "nbconvert_exporter": "python",
   "pygments_lexer": "ipython3",
   "version": "3.11.9"
  }
 },
 "nbformat": 4,
 "nbformat_minor": 5
}
