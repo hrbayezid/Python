{
 "cells": [
  {
   "cell_type": "markdown",
   "id": "c3159a62",
   "metadata": {},
   "source": [
    "read"
   ]
  },
  {
   "cell_type": "code",
   "execution_count": 42,
   "id": "51ce3b48",
   "metadata": {},
   "outputs": [
    {
     "name": "stdout",
     "output_type": "stream",
     "text": [
      "abclo\n",
      "<class 'str'>\n"
     ]
    }
   ],
   "source": [
    "f = open(\"practice_io_files\\demo.txt\",\"r\")\n",
    "\n",
    "data = f.read(5)\n",
    "print(data)\n",
    "print(type(data))\n",
    "\n",
    "f.close()"
   ]
  },
  {
   "cell_type": "code",
   "execution_count": 43,
   "id": "c1ef6331",
   "metadata": {},
   "outputs": [
    {
     "name": "stdout",
     "output_type": "stream",
     "text": [
      "abclooo there \n",
      " whats up\n",
      "\n"
     ]
    }
   ],
   "source": [
    "f = open(\"practice_io_files\\demo.txt\",\"r\")\n",
    "\n",
    "line = f.readline()\n",
    "print(line,end=\"\")\n",
    "line2 = f.readline()\n",
    "print(line2)\n",
    "f.close()"
   ]
  },
  {
   "cell_type": "markdown",
   "id": "925f88db",
   "metadata": {},
   "source": [
    "write"
   ]
  },
  {
   "cell_type": "code",
   "execution_count": 44,
   "id": "9fa21cc2",
   "metadata": {},
   "outputs": [],
   "source": [
    "f = open(\"practice_io_files\\demo.txt\",\"w\")\n",
    "\n",
    "f.write(\"hellooo there\\nwhats up\")\n",
    "f.close()"
   ]
  },
  {
   "cell_type": "markdown",
   "id": "6176a998",
   "metadata": {},
   "source": [
    "append"
   ]
  },
  {
   "cell_type": "code",
   "execution_count": 45,
   "id": "57e839b8",
   "metadata": {},
   "outputs": [],
   "source": [
    "f = open(\"practice_io_files\\demo.txt\",\"a\")\n",
    "\n",
    "f.write(\"\\nbye\")\n",
    "f.close()"
   ]
  },
  {
   "cell_type": "markdown",
   "id": "910eb9a4",
   "metadata": {},
   "source": [
    "mode combinations: r+ , w+ , a+"
   ]
  },
  {
   "cell_type": "code",
   "execution_count": null,
   "id": "4b6b2ecf",
   "metadata": {},
   "outputs": [
    {
     "name": "stdout",
     "output_type": "stream",
     "text": [
      "abc ooo there\n",
      "whats up\n",
      "bye\n"
     ]
    }
   ],
   "source": [
    "f = open(\"practice_io_files\\demo.txt\",\"r+\")# read and overwrite(no truncate)\n",
    "\n",
    "f.write(\"abc \")\n",
    "print(f.read())\n",
    "f.close()\n"
   ]
  },
  {
   "cell_type": "code",
   "execution_count": null,
   "id": "4b00d52f",
   "metadata": {},
   "outputs": [],
   "source": [
    "f = open(\"practice_io_files\\demo.txt\",\"w+\") #(trancate)\n",
    "\n",
    "f.write(\"abc\")\n",
    "f.close()\n"
   ]
  },
  {
   "cell_type": "code",
   "execution_count": null,
   "id": "aa1fb741",
   "metadata": {},
   "outputs": [],
   "source": [
    "f = open(\"practice_io_files\\demo.txt\",\"a+\")#(no trancate)\n",
    "\n",
    "f.write(\" abc\")\n",
    "f.close()"
   ]
  },
  {
   "cell_type": "code",
   "execution_count": null,
   "id": "3bff855f",
   "metadata": {},
   "outputs": [
    {
     "name": "stdout",
     "output_type": "stream",
     "text": [
      "abcabc\n"
     ]
    }
   ],
   "source": [
    "with open(\"practice_io_files\\demo.txt\",\"r\") as f: # no need to close while use with\n",
    "\n",
    "    data = f.read()\n",
    "    print(data)\n",
    "   "
   ]
  },
  {
   "cell_type": "markdown",
   "id": "4a9e926b",
   "metadata": {},
   "source": [
    "binary data "
   ]
  },
  {
   "cell_type": "code",
   "execution_count": 71,
   "id": "64c58f0e",
   "metadata": {},
   "outputs": [],
   "source": [
    "with open(\"D:\\DS\\python\\Lesson\\practice_io_files\\Bayezid.pdf\",\"rb\") as f:\n",
    "\n",
    "\n",
    "    with open(\"practice_io_files\\demo.pdf\",\"wb\") as f1:\n",
    "        for i in f:\n",
    "            f1.write(i)\n",
    "    "
   ]
  },
  {
   "cell_type": "code",
   "execution_count": null,
   "id": "1e30d311",
   "metadata": {},
   "outputs": [],
   "source": []
  },
  {
   "cell_type": "code",
   "execution_count": null,
   "id": "6d5b65e7",
   "metadata": {},
   "outputs": [],
   "source": [
    "# import os\n",
    "# os.remove(\"practice_io_files\\demo.txt\")\n"
   ]
  }
 ],
 "metadata": {
  "kernelspec": {
   "display_name": "Python 3",
   "language": "python",
   "name": "python3"
  },
  "language_info": {
   "codemirror_mode": {
    "name": "ipython",
    "version": 3
   },
   "file_extension": ".py",
   "mimetype": "text/x-python",
   "name": "python",
   "nbconvert_exporter": "python",
   "pygments_lexer": "ipython3",
   "version": "3.11.9"
  }
 },
 "nbformat": 4,
 "nbformat_minor": 5
}
