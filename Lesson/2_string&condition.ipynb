{
 "cells": [
  {
   "cell_type": "markdown",
   "id": "cf0cf3b4",
   "metadata": {},
   "source": [
    "String"
   ]
  },
  {
   "cell_type": "code",
   "execution_count": 1,
   "id": "da744be3",
   "metadata": {},
   "outputs": [
    {
     "name": "stdout",
     "output_type": "stream",
     "text": [
      "hello awesome. world\n",
      "14\n",
      "a\n",
      "o awesome\n",
      "hello\n",
      "awesome\n"
     ]
    }
   ],
   "source": [
    "str1= \"hello awesome.\"\n",
    "str2= ' world'\n",
    "print(str1 + str2)\n",
    "print (len(str1))\n",
    "print(str1[6])\n",
    "print(str1[4:-1])\n",
    "print(str1[:5])\n",
    "print(str1[6:-1])"
   ]
  },
  {
   "cell_type": "code",
   "execution_count": 2,
   "id": "4ba00617",
   "metadata": {},
   "outputs": [
    {
     "name": "stdout",
     "output_type": "stream",
     "text": [
      "True\n",
      "Hello awesome.\n",
      "hella awesame.\n",
      "hello awesome.\n",
      "2\n",
      "2\n"
     ]
    }
   ],
   "source": [
    "print(str1.endswith(\"some.\")) \n",
    "print(str1.capitalize()) \n",
    "print(str1.replace(\"o\", \"a\")) \n",
    "print (str1)\n",
    "print(str2.find(\"o\"))\n",
    "print(str1.count(\"o\"))"
   ]
  },
  {
   "cell_type": "code",
   "execution_count": 4,
   "id": "7cc9502b",
   "metadata": {},
   "outputs": [
    {
     "name": "stdout",
     "output_type": "stream",
     "text": [
      "bayezid 7\n"
     ]
    }
   ],
   "source": [
    "\n",
    "# # user's name and print length # #\n",
    "\n",
    "name =  input(\"enter name : \")\n",
    "print(name , len(name))\n"
   ]
  },
  {
   "cell_type": "code",
   "execution_count": 11,
   "id": "2dedc5d7",
   "metadata": {},
   "outputs": [
    {
     "name": "stdout",
     "output_type": "stream",
     "text": [
      "$ki$ 2 1\n"
     ]
    }
   ],
   "source": [
    "# occurrence of $ i a string # #  \n",
    "\n",
    "str=input(\"enter string\")\n",
    "print(str ,str.count(\"$\"),str.count(\"i\"))"
   ]
  },
  {
   "cell_type": "markdown",
   "id": "5cd92d5e",
   "metadata": {},
   "source": [
    "Conditions"
   ]
  },
  {
   "cell_type": "code",
   "execution_count": 15,
   "id": "b78559d9",
   "metadata": {},
   "outputs": [
    {
     "name": "stdout",
     "output_type": "stream",
     "text": [
      "19 can vote\n"
     ]
    }
   ],
   "source": [
    "age = int(input(\"enter age : \"))\n",
    "if (age>=18):\n",
    "    print(age,\"can vote\")\n",
    "elif (age<18):\n",
    "    print(age,\"can't vote\")\n",
    "else:\n",
    "    print(\"not citizen\") "
   ]
  },
  {
   "cell_type": "code",
   "execution_count": null,
   "id": "2cdd4c27",
   "metadata": {},
   "outputs": [
    {
     "name": "stdout",
     "output_type": "stream",
     "text": [
      "90 A\n"
     ]
    }
   ],
   "source": [
    "marks = int(input(\"enter marks : \"))\n",
    "\n",
    "if (marks>=90):\n",
    "    print(marks,\"A\")\n",
    "\n",
    "elif (90>marks>=80):\n",
    "    print(marks,\"B\")\n",
    "\n",
    "elif (70>marks>=60):\n",
    "    print(marks,\"C\")\n",
    "    \n",
    "else:\n",
    "    print(marks,\"failed\")"
   ]
  },
  {
   "cell_type": "code",
   "execution_count": 19,
   "id": "cc661b9d",
   "metadata": {},
   "outputs": [
    {
     "name": "stdout",
     "output_type": "stream",
     "text": [
      "can drive\n",
      "too old\n"
     ]
    }
   ],
   "source": [
    "age = int (input(\"enter age: \"))\n",
    "\n",
    "if (age>=18):\n",
    "    print(\"can drive\")\n",
    "    \n",
    "    if(age>=80):\n",
    "        print(\"too old\")\n",
    "\n",
    "else:\n",
    "    print(\"can't drive\")"
   ]
  },
  {
   "cell_type": "code",
   "execution_count": 24,
   "id": "6e7976e3",
   "metadata": {},
   "outputs": [
    {
     "name": "stdout",
     "output_type": "stream",
     "text": [
      "16 is multiple of 8\n"
     ]
    }
   ],
   "source": [
    "num = int(input())\n",
    "if (num%8==0):\n",
    "    print(num,\"is multiple of 8\")\n",
    "else:\n",
    "    print(num,\"is not multiple\")"
   ]
  },
  {
   "cell_type": "code",
   "execution_count": 29,
   "id": "74611cf9",
   "metadata": {},
   "outputs": [
    {
     "name": "stdout",
     "output_type": "stream",
     "text": [
      "jamesjamesjamesjamesjamesjames\n"
     ]
    }
   ],
   "source": [
    "var= \"james\"*2*3\n",
    "print(var)\n"
   ]
  },
  {
   "cell_type": "code",
   "execution_count": 30,
   "id": "3a08da20",
   "metadata": {},
   "outputs": [
    {
     "name": "stdout",
     "output_type": "stream",
     "text": [
      "16\n"
     ]
    }
   ],
   "source": [
    "x=11\n",
    "y=50 \n",
    "if (x**2>100 and y<100):\n",
    "    print(2**2**2)"
   ]
  },
  {
   "cell_type": "code",
   "execution_count": 32,
   "id": "958dbaab",
   "metadata": {},
   "outputs": [
    {
     "name": "stdout",
     "output_type": "stream",
     "text": [
      "INVALID SCORE\n"
     ]
    }
   ],
   "source": [
    "score = float(input(\"enter student's score : \"))\n",
    "if 90 <= score <= 100:\n",
    "    print(\"A\")\n",
    "elif 80 <= score <= 89:\n",
    "    print(\"B\")\n",
    "elif 70 <= score <= 79:\n",
    "    print(\"C\")\n",
    "elif 60 <= score <= 69:\n",
    "    print(\"D\")\n",
    "elif 50 <= score <= 59:\n",
    "    print(\"E\")\n",
    "elif 40 <= score <= 49:\n",
    "    print(\"E-\")\n",
    "elif score < 40:\n",
    "    print(\"F or Fail\")\n",
    "else:\n",
    "    print(\"INVALID SCORE\")"
   ]
  },
  {
   "cell_type": "code",
   "execution_count": 33,
   "id": "f3c92f60",
   "metadata": {},
   "outputs": [
    {
     "name": "stdout",
     "output_type": "stream",
     "text": [
      "Bayezid\n"
     ]
    }
   ],
   "source": [
    "info =\"bayezid\"\n",
    "name = info.capitalize()\n",
    "\n",
    "print(name)\n"
   ]
  },
  {
   "cell_type": "code",
   "execution_count": 34,
   "id": "650e4bdd",
   "metadata": {},
   "outputs": [
    {
     "name": "stdout",
     "output_type": "stream",
     "text": [
      "hello  Bayezid length of your name is :  7\n"
     ]
    }
   ],
   "source": [
    "name = input(\"enter name: \").capitalize()\n",
    "length_of_name= len(name)\n",
    "print(\"hello \", name, \"length of your name is : \",length_of_name)\n"
   ]
  },
  {
   "cell_type": "code",
   "execution_count": 35,
   "id": "4acea8fc",
   "metadata": {},
   "outputs": [
    {
     "name": "stdout",
     "output_type": "stream",
     "text": [
      "5\n"
     ]
    }
   ],
   "source": [
    "occurrence = \"kjnvc@@kjn@78@@\"\n",
    "print(occurrence.count(\"@\"))"
   ]
  },
  {
   "cell_type": "code",
   "execution_count": 36,
   "id": "2361a2d1",
   "metadata": {},
   "outputs": [
    {
     "name": "stdout",
     "output_type": "stream",
     "text": [
      "odd\n"
     ]
    }
   ],
   "source": [
    "\n",
    "n = int (input(\"inter the number : \"))\n",
    "if (n%2 == 0):\n",
    "    print(\"even\")\n",
    "else:\n",
    "    print(\"odd\")\n"
   ]
  },
  {
   "cell_type": "code",
   "execution_count": 37,
   "id": "e9d0c42f",
   "metadata": {},
   "outputs": [
    {
     "name": "stdout",
     "output_type": "stream",
     "text": [
      "b is greatest\n"
     ]
    }
   ],
   "source": [
    "\n",
    "a = int (input (\"enter 1st number : \"))\n",
    "b = int (input (\"enter 2nd number : \"))\n",
    "c = int (input (\"enter 3rd number : \"))\n",
    "\n",
    "if (a>b and a>c):\n",
    "    print(\"a is the largest\")\n",
    "elif(b>a and b>c):\n",
    "    print(\"b is greatest\")\n",
    "else:\n",
    "    print(\"c is greatest\")"
   ]
  },
  {
   "cell_type": "code",
   "execution_count": 41,
   "id": "199b88d5",
   "metadata": {},
   "outputs": [
    {
     "name": "stdout",
     "output_type": "stream",
     "text": [
      "55 and 3 are not multiple\n"
     ]
    }
   ],
   "source": [
    "n = int(input(\"enter the number you want to check: \"))\n",
    "m = int(input(\"enter the number : \"))\n",
    "if (n%m == 0 ):\n",
    "    print(n,\"is multiple of\",m)\n",
    "else:\n",
    "    print(n,\"and\" ,m,\"are not multiple\")"
   ]
  },
  {
   "cell_type": "code",
   "execution_count": 4,
   "id": "4a57c5d1",
   "metadata": {},
   "outputs": [
    {
     "name": "stdout",
     "output_type": "stream",
     "text": [
      "your items are :  ['alu']\n",
      "total number of items are :  1\n"
     ]
    }
   ],
   "source": [
    "\n",
    "bazar = []\n",
    "\n",
    "while True :\n",
    "    name=input(\"enter item name : (Q to exit)\")\n",
    "    if(name == \"Q\" or name== \"q\"):\n",
    "        break\n",
    "    else:\n",
    "        bazar.append(name)\n",
    "print(\"your items are : \" ,bazar)\n",
    "print(\"total number of items are : \",len(bazar))\n",
    "    \n"
   ]
  },
  {
   "cell_type": "code",
   "execution_count": null,
   "id": "5d1bcaf5",
   "metadata": {},
   "outputs": [
    {
     "name": "stdout",
     "output_type": "stream",
     "text": [
      "['hola', 'bola', 'gola']\n"
     ]
    }
   ],
   "source": [
    "\n",
    "num = [1,2,3,2,1]\n",
    "num2 = num.copy()\n",
    "num.reverse()\n",
    "if (num == num2):\n",
    "    print ( \"palyndrome\")\n",
    "else:\n",
    "    print(\"not palyndrome\")"
   ]
  },
  {
   "cell_type": "code",
   "execution_count": 10,
   "id": "dd6b7cbe",
   "metadata": {},
   "outputs": [
    {
     "name": "stdout",
     "output_type": "stream",
     "text": [
      "['1', '2', '1'] Palindrom\n"
     ]
    }
   ],
   "source": [
    "palindrom = list(input (\"check palindrom : \"))\n",
    "\n",
    "repalindrom = palindrom.copy()\n",
    "repalindrom.reverse()\n",
    "\n",
    "if palindrom == repalindrom : print(palindrom,\"Palindrom\") \n",
    "else : print(palindrom,\"not palindrom\")\n"
   ]
  }
 ],
 "metadata": {
  "kernelspec": {
   "display_name": "Python 3",
   "language": "python",
   "name": "python3"
  },
  "language_info": {
   "codemirror_mode": {
    "name": "ipython",
    "version": 3
   },
   "file_extension": ".py",
   "mimetype": "text/x-python",
   "name": "python",
   "nbconvert_exporter": "python",
   "pygments_lexer": "ipython3",
   "version": "3.11.9"
  }
 },
 "nbformat": 4,
 "nbformat_minor": 5
}
