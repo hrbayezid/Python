{
 "cells": [
  {
   "cell_type": "code",
   "execution_count": 14,
   "id": "5a460ba4",
   "metadata": {},
   "outputs": [
    {
     "name": "stdout",
     "output_type": "stream",
     "text": [
      "try lower the number was :  2 try again\n",
      "try lower the number was :  3 try again\n",
      "try higher the number was :  9 try again\n",
      "try higher the number was :  9 try again\n",
      "try lower the number was :  4 try again\n",
      "try lower the number was :  6 try again\n",
      "try higher the number was :  10 try again\n",
      "u got it bruhh the number was :  5\n"
     ]
    }
   ],
   "source": [
    "import random\n",
    "\n",
    "while True :\n",
    "    guess = int (input(\"Guess the number betwween 1 to 10 : \"))\n",
    "    number = random.randint(1,10)\n",
    "\n",
    "    if guess > number :\n",
    "        print(\"try lower\",\"the number was : \",number,\"try again\")\n",
    "    if guess < number :\n",
    "        print(\"try higher\",\"the number was : \",number,\"try again\")\n",
    "    if guess == number :\n",
    "        print(\"u got it bruhh the number was : \",number)\n",
    "        break\n"
   ]
  },
  {
   "cell_type": "code",
   "execution_count": null,
   "id": "b7ee1989",
   "metadata": {},
   "outputs": [],
   "source": []
  },
  {
   "cell_type": "markdown",
   "id": "528a2ec8",
   "metadata": {},
   "source": []
  },
  {
   "cell_type": "code",
   "execution_count": null,
   "id": "eec211ef",
   "metadata": {},
   "outputs": [],
   "source": []
  }
 ],
 "metadata": {
  "kernelspec": {
   "display_name": "Python 3",
   "language": "python",
   "name": "python3"
  },
  "language_info": {
   "codemirror_mode": {
    "name": "ipython",
    "version": 3
   },
   "file_extension": ".py",
   "mimetype": "text/x-python",
   "name": "python",
   "nbconvert_exporter": "python",
   "pygments_lexer": "ipython3",
   "version": "3.11.9"
  }
 },
 "nbformat": 4,
 "nbformat_minor": 5
}
