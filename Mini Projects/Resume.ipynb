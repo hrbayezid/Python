{
 "cells": [
  {
   "cell_type": "code",
   "execution_count": 13,
   "id": "e20dd88f",
   "metadata": {},
   "outputs": [
    {
     "data": {
      "text/plain": [
       "'files/BayezidCV.docx'"
      ]
     },
     "execution_count": 13,
     "metadata": {},
     "output_type": "execute_result"
    }
   ],
   "source": [
    "from docx import Document\n",
    "from docx.shared import Cm\n",
    "from docx.enum.text import WD_PARAGRAPH_ALIGNMENT\n",
    "\n",
    "# Create new document\n",
    "doc = Document()\n",
    "\n",
    "# Set narrow margins to fit one page nicely\n",
    "for section in doc.sections:\n",
    "    section.top_margin = Cm(1.0)\n",
    "    section.bottom_margin = Cm(1.0)\n",
    "    section.left_margin = Cm(1.5)\n",
    "    section.right_margin = Cm(1.5)\n",
    "\n",
    "# Title - Centered Name\n",
    "title = doc.add_heading('HIFZUR RAHMAN BAYEZID', level=0)\n",
    "title.alignment = WD_PARAGRAPH_ALIGNMENT.CENTER\n",
    "\n",
    "# Contact Info - Centered on one line\n",
    "contact = doc.add_paragraph()\n",
    "contact.alignment = WD_PARAGRAPH_ALIGNMENT.CENTER\n",
    "contact.add_run(\"Akhalia, Surma Gate, Sylhet | \")\n",
    "contact.add_run(\"📧 hrbayezid@gmail.com | \")\n",
    "contact.add_run(\"📞 01648-752209 | \\n\")\n",
    "contact.add_run(\"GitHub: github.com/hrbayezid | \")\n",
    "contact.add_run(\"LinkedIn: bd.linkedin.com/in/hrbayezid\")\n",
    "\n",
    "# Profile Summary\n",
    "doc.add_heading('Profile Summary', level=1)\n",
    "doc.add_paragraph(\n",
    "    \"Aspiring Data Scientist with foundations in machine learning and data storytelling. \"\n",
    "    \"Hands-on experience in real-world data science projects. Proficient in Python, SQL, and data visualization. \"\n",
    "    \"Detail-oriented, fast learner, and ready to solve business problems with clean code.\"\n",
    ")\n",
    "\n",
    "# Skills\n",
    "doc.add_heading('Skills', level=1)\n",
    "doc.add_paragraph(\n",
    "    \"Language : Python, SQL, Git, Jupyter Notebook  \\nLibraries: Pandas, NumPy, Seaborn, Matplotlib, Scikit-learn \"\n",
    "    \"Core Skills: Data Cleaning, EDA, Model Building, Evaluation Metrics, Visualization \\nSoft skills : Problem Solving, Fast Learner, Communication,Adaptability\"\n",
    ")\n",
    "\n",
    "# Projects\n",
    "doc.add_heading('Projects', level=1)\n",
    "\n",
    "doc.add_paragraph(\n",
    "    \"🔹 Loan Default Prediction – LoanShark\\n\"\n",
    "    \"Tech: Python, Pandas, Scikit-learn, Seaborn, Matplotlib\\n\"\n",
    "    \"Built a loan default classifier using financial data. Cleaned, encoded, and scaled data to enhance model performance. \"\n",
    "    \"Used a hard voting ensemble (SVC, GaussianNB, KNN) for better accuracy. Visualized key features and model metrics.\\n\"\n",
    "    \"📂 github.com/hrbayezid/LoanShark\", style='List Bullet')\n",
    "\n",
    "doc.add_paragraph(\n",
    "    \"🔹 Predicting Purchases Using API Data\\n\"\n",
    "    \"Tech: Python, Pandas, Scikit-learn, Seaborn, Matplotlib\\n\"\n",
    "    \"Processed nested JSON API data to predict user purchase intent. Engineered features, trained classifiers, and analyzed \"\n",
    "    \"trends through visualizations to extract behavioral insights.\\n\"\n",
    "    \"📂 github.com/hrbayezid/Predicting-purchases-using-api-data\", style='List Bullet')\n",
    "\n",
    "\n",
    "# Education\n",
    "doc.add_heading('Education', level=1)\n",
    "doc.add_paragraph(\"B.Sc, Leading University, Sylhet\\nRelevant: ML, Statistics, Python, SQL, Linear Algebra\")\n",
    "\n",
    "# Certifications & Languages\n",
    "doc.add_heading('Certifications & Languages', level=1)\n",
    "doc.add_paragraph(\"Ostad Data Science Program | Fluent in English & Bangla\")\n",
    "\n",
    "# Reference\n",
    "doc.add_heading('Reference', level=1)\n",
    "doc.add_paragraph(\"Hasan Sayad Shahriar Rofi, CEO & Co-Founder, Hasty Head (Available upon request)\")\n",
    "\n",
    "# Save the document\n",
    "compact_doc_path = \"files/BayezidCV.docx\"\n",
    "doc.save(compact_doc_path)\n",
    "\n",
    "compact_doc_path\n"
   ]
  },
  {
   "cell_type": "code",
   "execution_count": null,
   "id": "bf0b2a9e",
   "metadata": {},
   "outputs": [],
   "source": []
  }
 ],
 "metadata": {
  "kernelspec": {
   "display_name": "Python 3",
   "language": "python",
   "name": "python3"
  },
  "language_info": {
   "codemirror_mode": {
    "name": "ipython",
    "version": 3
   },
   "file_extension": ".py",
   "mimetype": "text/x-python",
   "name": "python",
   "nbconvert_exporter": "python",
   "pygments_lexer": "ipython3",
   "version": "3.11.9"
  }
 },
 "nbformat": 4,
 "nbformat_minor": 5
}
