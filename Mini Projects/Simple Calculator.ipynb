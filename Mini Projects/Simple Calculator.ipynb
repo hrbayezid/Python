{
 "cells": [
  {
   "cell_type": "code",
   "execution_count": 3,
   "id": "24973c7f",
   "metadata": {},
   "outputs": [
    {
     "name": "stdout",
     "output_type": "stream",
     "text": [
      "division by zero\n",
      "cant dicide by 0 u idiot\n",
      "u entered :  div 2 0\n"
     ]
    }
   ],
   "source": [
    "try : \n",
    "    a = int(input(\"enter number a :\"))\n",
    "    b = int(input(\"enter b :\"))\n",
    "    process = str(input(\"which kind of calculation u want to do\"))\n",
    "\n",
    "\n",
    "    def calculator():\n",
    "    \n",
    "        if process == \"add\":\n",
    "            return print(a+b)\n",
    "        elif process == \"sub\":\n",
    "            return print(a-b)\n",
    "        elif process == \"mul\":\n",
    "            return print(a*b)\n",
    "        if process == \"div\":\n",
    "            return print(a/b)\n",
    "        else :\n",
    "            print(\"invalid input\")\n",
    "\n",
    "    calculator()\n",
    "\n",
    "except ZeroDivisionError as e:\n",
    "    print(e)\n",
    "    print(\"cant dicide by 0 u idiot\")\n",
    "\n",
    "except ValueError as e:\n",
    "    print(e)\n",
    "    print(\"ValueError\")\n",
    "\n",
    "\n",
    "finally :\n",
    "    print(\"u entered : \",process ,a,b)\n",
    "\n",
    "\n",
    "\n"
   ]
  },
  {
   "cell_type": "code",
   "execution_count": null,
   "id": "27530c57",
   "metadata": {},
   "outputs": [],
   "source": []
  },
  {
   "cell_type": "code",
   "execution_count": null,
   "id": "fd4166bf",
   "metadata": {},
   "outputs": [],
   "source": []
  }
 ],
 "metadata": {
  "kernelspec": {
   "display_name": "Python 3",
   "language": "python",
   "name": "python3"
  },
  "language_info": {
   "codemirror_mode": {
    "name": "ipython",
    "version": 3
   },
   "file_extension": ".py",
   "mimetype": "text/x-python",
   "name": "python",
   "nbconvert_exporter": "python",
   "pygments_lexer": "ipython3",
   "version": "3.11.9"
  }
 },
 "nbformat": 4,
 "nbformat_minor": 5
}
