{
 "cells": [
  {
   "cell_type": "code",
   "execution_count": 1,
   "id": "c7ec9576",
   "metadata": {},
   "outputs": [
    {
     "name": "stdout",
     "output_type": "stream",
     "text": [
      "Welcome to the Bayezid Adventure Game!\n",
      "You safely crossed and found a hidden village. You win!\n"
     ]
    }
   ],
   "source": [
    "print(\"Welcome to the Bayezid Adventure Game!\")\n",
    "\n",
    "choice1 = input(\"You're at a crossroad. Do you go left or right? (left/right): \")\n",
    "\n",
    "if choice1 == \"left\":\n",
    "    choice2 = input(\"You see a river. Swim or build a raft? (swim/raft): \")\n",
    "    if choice2 == \"swim\":\n",
    "        print(\"Oops! Crocodiles got you. Game over.\")\n",
    "    elif choice2 == \"raft\":\n",
    "        print(\"You safely crossed and found a hidden village. You win!\")\n",
    "    else:\n",
    "        print(\"Invalid choice. A wild bear eats you.\")\n",
    "elif choice1 == \"right\":\n",
    "    print(\"You fall into a hole. Game over.\")\n",
    "else:\n",
    "    print(\"You stood still too long and turned into a tree.\")\n"
   ]
  },
  {
   "cell_type": "code",
   "execution_count": null,
   "id": "3031e772",
   "metadata": {},
   "outputs": [],
   "source": []
  }
 ],
 "metadata": {
  "kernelspec": {
   "display_name": "Python 3",
   "language": "python",
   "name": "python3"
  },
  "language_info": {
   "codemirror_mode": {
    "name": "ipython",
    "version": 3
   },
   "file_extension": ".py",
   "mimetype": "text/x-python",
   "name": "python",
   "nbconvert_exporter": "python",
   "pygments_lexer": "ipython3",
   "version": "3.11.9"
  }
 },
 "nbformat": 4,
 "nbformat_minor": 5
}
