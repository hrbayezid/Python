{
 "cells": [
  {
   "cell_type": "code",
   "execution_count": 10,
   "id": "91f60e04",
   "metadata": {},
   "outputs": [
    {
     "name": "stdout",
     "output_type": "stream",
     "text": [
      "['name,age,grade\\n', 'Ali,17,A\\n', 'Zara,16,\\n', 'Ahmed,,B\\n', ',18,B\\n', 'Nadia,17,C\\n']\n"
     ]
    }
   ],
   "source": [
    "with open (\"D:\\DS\\python\\Lesson\\practice_io_files\\students.csv\",\"r\")as file:\n",
    "    lines = file.readlines()\n",
    "    print(lines)"
   ]
  },
  {
   "cell_type": "code",
   "execution_count": 11,
   "id": "c58d8ead",
   "metadata": {},
   "outputs": [
    {
     "name": "stdout",
     "output_type": "stream",
     "text": [
      "name,age,grade\n",
      " ['Ali,17,A\\n', 'Zara,16,\\n', 'Ahmed,,B\\n', ',18,B\\n', 'Nadia,17,C\\n']\n"
     ]
    }
   ],
   "source": [
    "header = lines[0]\n",
    "data = lines[1:]\n",
    "\n",
    "print(header,data)\n"
   ]
  },
  {
   "cell_type": "code",
   "execution_count": 12,
   "id": "ff3ba981",
   "metadata": {},
   "outputs": [
    {
     "data": {
      "text/plain": [
       "['Ali,17,A\\n', 'Nadia,17,C\\n']"
      ]
     },
     "execution_count": 12,
     "metadata": {},
     "output_type": "execute_result"
    }
   ],
   "source": [
    "cleaned =[]\n",
    "\n",
    "for row in data :\n",
    "    if \"\" not in row.strip().split(\",\"):\n",
    "        cleaned.append(row)\n",
    "cleaned"
   ]
  },
  {
   "cell_type": "code",
   "execution_count": 15,
   "id": "976f8702",
   "metadata": {},
   "outputs": [],
   "source": [
    "with open(\"D:\\DS\\python\\Lesson\\practice_io_files\\cleaned_students.csv\",\"w\") as file:\n",
    "    \n",
    "    file.write(header)\n",
    "    file.writelines(cleaned)"
   ]
  },
  {
   "cell_type": "code",
   "execution_count": 16,
   "id": "88aa25da",
   "metadata": {},
   "outputs": [
    {
     "name": "stdout",
     "output_type": "stream",
     "text": [
      "Original rows: 5\n",
      "Cleaned rows: 2\n",
      "Rows removed: 3\n"
     ]
    }
   ],
   "source": [
    "print(f\"Original rows: {len(data)}\")\n",
    "print(f\"Cleaned rows: {len(cleaned)}\")\n",
    "print(f\"Rows removed: {len(data) - len(cleaned)}\")\n"
   ]
  },
  {
   "cell_type": "code",
   "execution_count": null,
   "id": "d4e9ffd1",
   "metadata": {},
   "outputs": [],
   "source": []
  }
 ],
 "metadata": {
  "kernelspec": {
   "display_name": "Python 3",
   "language": "python",
   "name": "python3"
  },
  "language_info": {
   "codemirror_mode": {
    "name": "ipython",
    "version": 3
   },
   "file_extension": ".py",
   "mimetype": "text/x-python",
   "name": "python",
   "nbconvert_exporter": "python",
   "pygments_lexer": "ipython3",
   "version": "3.11.9"
  }
 },
 "nbformat": 4,
 "nbformat_minor": 5
}
