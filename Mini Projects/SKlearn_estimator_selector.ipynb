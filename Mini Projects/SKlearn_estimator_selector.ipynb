{
 "cells": [
  {
   "cell_type": "code",
   "execution_count": 3,
   "id": "00536b99",
   "metadata": {},
   "outputs": [],
   "source": [
    "def ask_yes_no(question):\n",
    "    while True:\n",
    "        answer = input(question + \" (yes/no): \").strip().lower()\n",
    "        if answer in ['yes', 'y']:\n",
    "            return True\n",
    "        elif answer in ['no', 'n']:\n",
    "            return False\n",
    "        else:\n",
    "            print(\"Please answer 'yes' or 'no'.\")\n"
   ]
  },
  {
   "cell_type": "code",
   "execution_count": 4,
   "id": "4485b100",
   "metadata": {},
   "outputs": [],
   "source": [
    "\n",
    "def handle_classification_branch():\n",
    "    print(\"\\n--- Classification ---\")\n",
    "    if not ask_yes_no(\"Do you have labeled data?\"):\n",
    "        print(\"This path leads to Clustering.\")\n",
    "        handle_clustering_branch()\n",
    "        return\n",
    "\n",
    "    if not ask_yes_no(\"Do you have <100K samples?\"):\n",
    "        print(\"\\nSuggestion: SGD Classifier\")\n",
    "        if ask_yes_no(\"Is SGD Classifier NOT WORKING?\"):\n",
    "            print(\"Try: Kernel Approximation (for classification)\")\n",
    "        return\n",
    "\n",
    "    if ask_yes_no(\"Is it text data?\"):\n",
    "        print(\"\\nSuggestion: Naive Bayes\")\n",
    "        return\n",
    "    else:\n",
    "        print(\"\\nSuggestion: Linear SVC\")\n",
    "        if ask_yes_no(\"Is Linear SVC NOT WORKING?\"):\n",
    "            print(\"Try: KNeighbors Classifier\")\n",
    "            if ask_yes_no(\"Is KNeighbors Classifier NOT WORKING?\"):\n",
    "                print(\"Try: SVC or Ensemble Classifiers\")\n"
   ]
  },
  {
   "cell_type": "code",
   "execution_count": 5,
   "id": "8199e6cc",
   "metadata": {},
   "outputs": [],
   "source": [
    "\n",
    "def handle_regression_branch():\n",
    "    print(\"\\n--- Regression ---\")\n",
    "    if not ask_yes_no(\"Do you have <100K samples?\"):\n",
    "        print(\"\\nSuggestion: SGD Regressor\")\n",
    "        return\n",
    "\n",
    "    if ask_yes_no(\"Should only a few features be important?\"):\n",
    "        print(\"\\nSuggestion: Lasso or ElasticNet\")\n",
    "    else:\n",
    "        print(\"\\nSuggestion: RidgeRegression or SVR(kernel='linear')\")\n",
    "        if ask_yes_no(\"Are these (RidgeRegression/SVR linear) NOT WORKING?\"):\n",
    "            print(\"Try: SVR(kernel='rbf') or EnsembleRegressors\")\n"
   ]
  },
  {
   "cell_type": "code",
   "execution_count": 6,
   "id": "4f1de825",
   "metadata": {},
   "outputs": [],
   "source": [
    "\n",
    "def handle_clustering_branch():\n",
    "    print(\"\\n--- Clustering ---\")\n",
    "    if ask_yes_no(\"Is the number of categories known?\"):\n",
    "        if ask_yes_no(\"Do you have <10K samples?\"):\n",
    "            print(\"\\nSuggestion: KMeans\")\n",
    "            if ask_yes_no(\"Is KMeans NOT WORKING?\"):\n",
    "                print(\"Try: Spectral Clustering or GMM\")\n",
    "        else:\n",
    "            print(\"\\nSuggestion: MiniBatch KMeans\")\n",
    "    else:\n",
    "        print(\"\\nSuggestion: MeanShift or VBGMM\")\n"
   ]
  },
  {
   "cell_type": "code",
   "execution_count": 7,
   "id": "deeb9b07",
   "metadata": {},
   "outputs": [],
   "source": [
    "\n",
    "def handle_dimensionality_reduction_branch():\n",
    "    print(\"\\n--- Dimensionality Reduction ---\")\n",
    "    if ask_yes_no(\"Do you have <10K samples?\"):\n",
    "        print(\"\\nSuggestion: Randomized PCA\")\n",
    "        if ask_yes_no(\"Is Randomized PCA NOT WORKING?\"):\n",
    "            print(\"Try: Isomap or Spectral Embedding\")\n",
    "            if ask_yes_no(\"Are Isomap / Spectral Embedding NOT WORKING?\"):\n",
    "                print(\"Try: LLE (Locally Linear Embedding)\")\n",
    "    else:\n",
    "        print(\"\\nSuggestion: Kernel Approximation (for dimensionality reduction)\")\n"
   ]
  },
  {
   "cell_type": "code",
   "execution_count": 8,
   "id": "5948969f",
   "metadata": {},
   "outputs": [
    {
     "name": "stdout",
     "output_type": "stream",
     "text": [
      "Welcome to the scikit-learn Algorithm Cheat Sheet Navigator!\n",
      "Let's find the right estimator for your problem.\n",
      "----------------------------------------------------\n",
      "\n",
      "What is your primary goal?\n",
      "\n",
      "--- Classification ---\n",
      "\n",
      "Suggestion: SGD Classifier\n",
      "Try: Kernel Approximation (for classification)\n",
      "\n",
      "----------------------------------------------------\n",
      "Remember, this is a guideline. Experimentation is key!\n"
     ]
    }
   ],
   "source": [
    "\n",
    "def find_sklearn_estimator():\n",
    "    print(\"Welcome to the scikit-learn Algorithm Cheat Sheet Navigator!\")\n",
    "    print(\"Let's find the right estimator for your problem.\")\n",
    "    print(\"----------------------------------------------------\")\n",
    "\n",
    "    if not ask_yes_no(\"START: Do you have >50 samples?\"):\n",
    "        print(\"\\nSuggestion: Get more data.\")\n",
    "        return\n",
    "\n",
    "    print(\"\\nWhat is your primary goal?\")\n",
    "    \n",
    "    if ask_yes_no(\"1. Are you predicting a category? (Classification/Clustering)\"):\n",
    "        handle_classification_branch()\n",
    "\n",
    "    elif ask_yes_no(\"2. Are you predicting a quantity? (Regression)\"):\n",
    "        handle_regression_branch()\n",
    "\n",
    "    elif ask_yes_no(\"3. Are you 'just looking' at your data?\"):\n",
    "        print(\"This usually implies you want to understand or simplify the data's structure.\")\n",
    "        handle_dimensionality_reduction_branch()\n",
    "        \n",
    "    elif ask_yes_no(\"4. Are you primarily trying to predict/discover structure in your data?\"):\n",
    "        print(\"\\nSuggestion: Tough luck (according to the direct 'predicting structure' path).\")\n",
    "        print(\"Consider if your task is actually:\")\n",
    "        print(\"  - CLUSTERING (if so, restart: choose 'Predict a category', then 'NO' to 'labeled data').\")\n",
    "        print(\"  - DIMENSIONALITY REDUCTION (if so, restart: choose 'Just looking').\")\n",
    "    \n",
    "    else:\n",
    "        print(\"\\nNo primary task selected. Please restart and choose one of the main goals.\")\n",
    "\n",
    "    print(\"\\n----------------------------------------------------\")\n",
    "    print(\"Remember, this is a guideline. Experimentation is key!\")\n",
    "\n",
    "    \n",
    "\n",
    "if __name__ == \"__main__\":\n",
    "    find_sklearn_estimator()\n"
   ]
  }
 ],
 "metadata": {
  "kernelspec": {
   "display_name": "Python 3",
   "language": "python",
   "name": "python3"
  },
  "language_info": {
   "codemirror_mode": {
    "name": "ipython",
    "version": 3
   },
   "file_extension": ".py",
   "mimetype": "text/x-python",
   "name": "python",
   "nbconvert_exporter": "python",
   "pygments_lexer": "ipython3",
   "version": "3.11.9"
  }
 },
 "nbformat": 4,
 "nbformat_minor": 5
}
